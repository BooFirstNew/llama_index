{
 "cells": [
  {
   "cell_type": "markdown",
   "id": "b4be2f6e-0d88-4685-b020-04a2ddb43e89",
   "metadata": {},
   "source": [
    "# LocalAI\n",
    "\n",
    "[LocalAI](https://github.com/mudler/LocalAI) is a method of serving models\n",
    "through an OpenAI API spec-compatible REST API.\n",
    "LlamaIndex can use its `OpenAILike` LLM to directly interact with a LocalAI server.\n",
    "\n",
    "First, let's get LocalAI set up,\n",
    "and start its server on `localhost` with the [`lunademo` model][1]:\n",
    "\n",
    "```bash\n",
    "git clone git@github.com:mudler/LocalAI.git\n",
    "cd LocalAI\n",
    "git checkout tags/v1.40.0\n",
    "docker compose up --detach\n",
    "curl http://localhost:8080/models/apply -H \"Content-Type: application/json\" -d '{\n",
    "    \"id\": \"model-gallery@lunademo\"\n",
    "}'\n",
    "```\n",
    "\n",
    "Use the printed output's job ID with `curl -s http://localhost:8080/models/jobs/123abc`\n",
    "to monitor the model download, depending on your download speeds,\n",
    "it may take several minutes. To list the downloaded models:\n",
    "\n",
    "```bash\n",
    "curl http://localhost:8080/v1/models\n",
    "```\n",
    "\n",
    "After the server is running, we can test it outside of LlamaIndex:\n",
    "\n",
    "```bash\n",
    "curl http://localhost:8080/v1/chat/completions -H \"Content-Type: application/json\" -d '{\n",
    "    \"model\": \"lunademo\",\n",
    "    \"messages\": [{\"role\": \"user\", \"content\": \"How are you?\"}],\n",
    "    \"temperature\": 0.9 \n",
    "}'\n",
    "```\n",
    "\n",
    "Now, let's get to coding:\n",
    "\n",
    "[1]: https://github.com/go-skynet/model-gallery/blob/main/lunademo.yaml"
   ]
  },
  {
   "cell_type": "code",
   "execution_count": null,
   "id": "74faaf68-8546-48aa-9582-83d1ece97cb6",
   "metadata": {},
   "outputs": [
    {
     "ename": "ImportError",
     "evalue": "cannot import name 'LOCALAI_DEFAULTS' from 'llama_index.llms.openai_like' (/Users/james.braza/code/athena/venv/lib/python3.11/site-packages/llama_index/llms/openai_like.py)",
     "output_type": "error",
     "traceback": [
      "\u001b[0;31m---------------------------------------------------------------------------\u001b[0m",
      "\u001b[0;31mImportError\u001b[0m                               Traceback (most recent call last)",
      "Cell \u001b[0;32mIn[2], line 1\u001b[0m\n\u001b[0;32m----> 1\u001b[0m \u001b[38;5;28;01mfrom\u001b[39;00m \u001b[38;5;21;01mllama_index\u001b[39;00m\u001b[38;5;21;01m.\u001b[39;00m\u001b[38;5;21;01mllms\u001b[39;00m\u001b[38;5;21;01m.\u001b[39;00m\u001b[38;5;21;01mopenai_like\u001b[39;00m \u001b[38;5;28;01mimport\u001b[39;00m OpenAILike, LOCALAI_DEFAULTS\n\u001b[1;32m      3\u001b[0m model \u001b[38;5;241m=\u001b[39m OpenAILike(\u001b[38;5;241m*\u001b[39m\u001b[38;5;241m*\u001b[39mLOCALAI_DEFAULTS)\n",
      "\u001b[0;31mImportError\u001b[0m: cannot import name 'LOCALAI_DEFAULTS' from 'llama_index.llms.openai_like' (/Users/james.braza/code/athena/venv/lib/python3.11/site-packages/llama_index/llms/openai_like.py)"
     ]
    }
   ],
   "source": [
    "from llama_index.llms.openai_like import LOCALAI_DEFAULTS, OpenAILike\n",
    "\n",
    "model = OpenAILike(**LOCALAI_DEFAULTS, model=\"lunademo\")\n",
    "response = model.complete(\"How are you?\")\n",
    "print(response)"
   ]
  },
  {
   "cell_type": "markdown",
   "id": "902cf782-1723-4671-9ff3-fca100069dbe",
   "metadata": {},
   "source": [
    "Thanks for reading, cheers!"
   ]
  }
 ],
 "metadata": {
  "kernelspec": {
   "display_name": "Python 3 (ipykernel)",
   "language": "python",
   "name": "python3"
  },
  "language_info": {
   "codemirror_mode": {
    "name": "ipython",
    "version": 3
   },
   "file_extension": ".py",
   "mimetype": "text/x-python",
   "name": "python",
   "nbconvert_exporter": "python",
   "pygments_lexer": "ipython3"
  }
 },
 "nbformat": 4,
 "nbformat_minor": 5
}
